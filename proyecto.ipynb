{
 "cells": [
  {
   "cell_type": "code",
   "execution_count": 75,
   "metadata": {},
   "outputs": [
    {
     "name": "stdout",
     "output_type": "stream",
     "text": [
      "la presion parcial del gas CO2 es: 0.06 atm\n"
     ]
    }
   ],
   "source": [
    "def calcular_gramos_gas(presion_parcial, constante_henry, cantidad_agua, gas_deseado, PM_agua, masa_molecular)->float:\n",
    "    x = presion_parcial/constante_henry[gas_deseado]\n",
    "    masa_gas = (x/(1-x))*(masa_molecular[gas_deseado]/PM_agua)*cantidad_agua\n",
    "    return masa_gas\n",
    "\n",
    "def calcular_presion_parcial(gramos_gas, gramos_agua, gas_deseado, masa_molecular, PM_agua)->float:\n",
    "    x = (gramos_gas/masa_molecular[gas_deseado])/((gramos_gas/masa_molecular[gas_deseado])+(gramos_agua/PM_agua))\n",
    "    P = x*constante_henry[gas_deseado]\n",
    "    return P\n",
    "\n",
    "constantes_henry_temperaturas = {\n",
    "    0: {'H2S': 268, 'CO2': 728, 'CO': 342, 'C2H6': 12600, 'CH4': 22400, 'NO': 16900, 'O2': 25500, 'N2':52900, 'AIRE': 43200, 'H2': 57900},\n",
    "    10: {'H2S': 367, 'CO2': 1040, 'CO': 44200, 'C2H6': 18900, 'CH4': 29700, 'NO': 21800, 'O2': 32700, 'N2': 66800, 'AIRE': 54900, 'H2': 63600},  \n",
    "    20: {'H2S': 483, 'CO2': 1420, 'CO': 53600, 'C2H6': 26300, 'CH4': 37600, 'NO': 26400, 'O2': 40100, 'N2': 80400, 'AIRE': 66400, 'H2': 68300},\n",
    "    30: {'H2S': 609, 'CO2': 1860, 'CO': 62000, 'C2H6': 34200, 'CH4': 44900, 'NO': 31000, 'O2': 47500, 'N2': 92400, 'AIRE': 77100, 'H2': 72900},\n",
    "    40: {'H2S': 745, 'CO2': 2330, 'CO': 69600, 'C2H6': 42300, 'CH4': 52000, 'NO': 35200, 'O2': 52500, 'N2': 104000,'AIRE': 87000, 'H2': 75100},\n",
    "}\n",
    "\n",
    "# Solicitar al usuario la temperatura\n",
    "temperatura = int(input(\"Ingrese la temperatura (0, 10, 20, 30, 40): \"))\n",
    "\n",
    "# Obtener las constantes de Henry para la temperatura dada\n",
    "constante_henry = constantes_henry_temperaturas[temperatura]\n",
    "\n",
    "PM_agua = 18 #peso molecular del agua\n",
    "\n",
    "#  Diccionario de los pesos moleculares\n",
    "masa_molecular = {  # peso molecular en g/mol\n",
    "        'H2S': 34.08,\n",
    "        'CO2': 44.01,\n",
    "        'CO': 28.01,\n",
    "        'C2H6': 30.08,\n",
    "        'CH4': 16.05,\n",
    "        'NO': 30.01,\n",
    "        '02': 32,\n",
    "        'N2': 28.02,\n",
    "        'AIRE': 28.96,\n",
    "        'H2': 2.02\n",
    "    }\n",
    "# Solicitar al usuario el gas deseado, convirtiendo el texto a minusculas\n",
    "gas_deseado = input(\"Ingrese el gas deseado (H2S, CO2, CO, C2H6, CH4): \").upper()\n",
    "\n",
    "# Preguntar al usuario si decea calcular los gramos del gas que se disolvera en el agua\n",
    "opcion = input(\"¿Desea calcular los gramos del gas que se disolveran en el agua? (si/no): \").lower()\n",
    "\n",
    "if opcion == 'si':\n",
    "    # Solicitar al usuario los datos\n",
    "    presion_parcial = float(input(\"Ingrese la presión parcial del gas en atm: \"))\n",
    "    cantidad_agua = float(input(\"Ingrese la cantidad de agua en gramos: \"))\n",
    "    calculo_si = calcular_gramos_gas(presion_parcial, constante_henry, cantidad_agua, gas_deseado, PM_agua, masa_molecular)\n",
    "    resultado_si = \"{:.2f}\".format(calculo_si)\n",
    "    print(\"la cantidad de gas \" +str(gas_deseado)+ \" en gramos que se disolveran en el agua es: \" +str(resultado_si) + \" G\")\n",
    "else:\n",
    "    # Solicitar al usuario los datos\n",
    "    gramos_gas = float(input(\"Ingrese la cantidad de gramos de gas disuelta en agua: \"))\n",
    "    gramos_agua = float(input(\"Ingrese la cantidad de agua en gramos: \"))\n",
    "    calculo_no = calcular_presion_parcial(gramos_gas, gramos_agua, gas_deseado, masa_molecular, PM_agua)\n",
    "    resultado_no = \"{:.2f}\".format(calculo_no)\n",
    "    print(\"la presion parcial del gas \" +str(gas_deseado)+ \" es: \" + str(resultado_no) + \" atm\")\n"
   ]
  }
 ],
 "metadata": {
  "kernelspec": {
   "display_name": "Python 3",
   "language": "python",
   "name": "python3"
  },
  "language_info": {
   "codemirror_mode": {
    "name": "ipython",
    "version": 3
   },
   "file_extension": ".py",
   "mimetype": "text/x-python",
   "name": "python",
   "nbconvert_exporter": "python",
   "pygments_lexer": "ipython3",
   "version": "3.12.0"
  }
 },
 "nbformat": 4,
 "nbformat_minor": 2
}
